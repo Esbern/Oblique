{
 "cells": [
  {
   "cell_type": "markdown",
   "id": "ffa30d0e-b358-4143-af93-fee81193b739",
   "metadata": {},
   "source": [
    "# Fetching oblique images and metadata from SDFI.\n",
    "SDFI uses a SpatioTemporal Asset Catalogs: STAC interface. "
   ]
  },
  {
   "cell_type": "markdown",
   "id": "e6d9ae56-180d-41dd-927d-e9689c8aa5db",
   "metadata": {},
   "source": [
    "#### To use this notebook, you need an environment with the right libraries (specified in the environment.yml file)\n",
    "To create the environment using conda or mamba type\n",
    "\n",
    "mamba env create -f environment.yml\n",
    "\n",
    "The code also assumes that there is a .env file in the same folder as the notebook and that this file takes the form \n",
    "token=xxx # where xxx is your dataforsyning  token"
   ]
  },
  {
   "cell_type": "markdown",
   "id": "3a42bcd5-92f9-4bbf-84cf-97af6b9d7ed6",
   "metadata": {},
   "source": [
    "## Setting the processing enviorment"
   ]
  },
  {
   "cell_type": "code",
   "execution_count": null,
   "id": "a28eb67d-7071-4fe3-ad3a-f885a01d6674",
   "metadata": {},
   "outputs": [],
   "source": [
    "# Imports\n",
    "from dotenv import dotenv_values\n",
    "import requests\n",
    "from urllib.parse import urlparse\n",
    "import json\n",
    "import os\n",
    "from PIL import Image, ImageFile\n",
    "from fractions import Fraction\n",
    "from PIL.TiffTags import TAGS\n",
    "import tifffile\n",
    "import piexif\n",
    "import piexif.helper\n",
    "import csv\n",
    "from pyproj import Transformer\n",
    "import xml.etree.ElementTree as ET"
   ]
  },
  {
   "cell_type": "markdown",
   "id": "45b58214-22c5-4fce-bc84-878ba7c1660a",
   "metadata": {},
   "source": [
    "Load the token from the .env files"
   ]
  },
  {
   "cell_type": "code",
   "execution_count": null,
   "id": "2c4695ea-13b0-4d2d-934b-a361f615f7d7",
   "metadata": {},
   "outputs": [],
   "source": [
    "config  = dotenv_values(\".env\")\n",
    "token = config[\"token\"]"
   ]
  },
  {
   "cell_type": "code",
   "execution_count": null,
   "id": "90c1702e-4036-42b6-98b8-011a30f413d3",
   "metadata": {},
   "outputs": [],
   "source": [
    "# Common variabuls\n",
    "base_url = \"https://api.dataforsyningen.dk/rest/skraafoto_api/v1.0/\"\n",
    "search_url = base_url + \"search\"\n",
    "\n",
    "params = {'token': token}\n",
    "\n",
    "image_path = \"./downloaded_images\"\n",
    "XMP_path= \"./downloaded_images\"\n",
    "flight_log_path = \"flight_log.JSON\"\n",
    "\n",
    "if not os.path.exists(image_path):\n",
    "   os.makedirs(image_path)\n",
    "\n",
    "if not os.path.exists(XMP_path):\n",
    "   os.makedirs(XMP_path)\n",
    "\n",
    "\n",
    "# Max number of returnd images can be set up to 1000\n",
    "limit = 100\n",
    "# Disable decompression bomb JSON\n",
    "Image.MAX_IMAGE_PIXELS = None\n",
    "ImageFile.LOAD_TRUNCATED_IMAGES = True\n",
    "JPEG_QUALITY = 95  # High-quality JPEG compression"
   ]
  },
  {
   "cell_type": "markdown",
   "id": "03ad4439-d954-4e37-8589-7e301c35fa7e",
   "metadata": {},
   "source": [
    "## Setting the search parameters in either WGS or in UTM32"
   ]
  },
  {
   "cell_type": "code",
   "execution_count": null,
   "id": "c7340397-6b4c-46d5-8c01-95752df5fe75",
   "metadata": {},
   "outputs": [],
   "source": [
    "# Define the bounding box and collection ID in EPSG:23832 coordinates\n",
    "\n",
    "# Define the bounding box\n",
    "bbox = [694305.7,  6170219.1 , 694503.5, 6170438.9]\n",
    "bbox_crs ='http://www.opengis.net/def/crs/EPSG/0/25832'\n",
    "return_crs = 'http://www.opengis.net/def/crs/EPSG/0/25832'\n",
    "collection_ids = [\"skraafotos2021\"]\n"
   ]
  },
  {
   "cell_type": "code",
   "execution_count": null,
   "id": "d327e752-85c3-4186-be5a-ffbfec1ea004",
   "metadata": {},
   "outputs": [],
   "source": [
    "# Define the bounding box using wgs84\n",
    "bbox = [12.087733, 55.639216, 12.089802, 55.640446]\n",
    "bbox_crs = \"http://www.opengis.net/def/crs/OGC/1.3/CRS84\"\n",
    "return_crs = \"http://www.opengis.net/def/crs/OGC/1.3/CRS84\"\n",
    "collection_ids = [\"skraafotos2021\"]\n"
   ]
  },
  {
   "cell_type": "markdown",
   "id": "e51021d2-ef07-4285-a66b-aee94816aa13",
   "metadata": {},
   "source": [
    "## Fetching the data"
   ]
  },
  {
   "cell_type": "markdown",
   "id": "22492d12-a8e4-4565-99bb-accbd9716637",
   "metadata": {},
   "source": [
    "### Defining helper procedures"
   ]
  },
  {
   "cell_type": "code",
   "execution_count": null,
   "id": "47bbec5a-6a61-44df-9420-5ce6e99339ec",
   "metadata": {},
   "outputs": [],
   "source": [
    "# Define Helper functions\n",
    "def download_json_metadata(url, params):\n",
    "    response = requests.get(url, params=params)\n",
    "    response.raise_for_status()\n",
    "    return response.json()\n",
    "\n",
    "def download_image(url, save_path):\n",
    "    response = requests.get(url, stream=True)\n",
    "    response.raise_for_status()\n",
    "    print(\"Start Download \",url)\n",
    "    with open(save_path, 'wb') as file:\n",
    "        for chunk in response.iter_content(chunk_size=8192):\n",
    "            file.write(chunk)\n",
    "    print(\"download compleat\")\n",
    "\n",
    "def transform_coordinates(x, y, src_crs=\"EPSG:25832\", dest_crs=\"EPSG:4326\"):\n",
    "    transformer = Transformer.from_crs(src_crs, dest_crs)\n",
    "\n",
    "    return transformer.transform(x, y)\n",
    "\n",
    "def to_gps_ifd(val):\n",
    "    deg = abs(int(val))\n",
    "    min = abs(int((val % 1) * 60))\n",
    "    sec = abs(int(((val * 60) % 1) * 60 * 10000))\n",
    "    return [(deg, 1), (min, 1), (sec, 10000)]\n",
    "\n",
    "def create_exif_data(metadata):\n",
    "    # Transform the perspective center coordinates to WGS84\n",
    "    lat, lon = transform_coordinates(\n",
    "        metadata[\"properties\"][\"pers:perspective_center\"][0],\n",
    "        metadata[\"properties\"][\"pers:perspective_center\"][1]\n",
    "    )\n",
    "    altitude = metadata[\"properties\"][\"pers:perspective_center\"][2]\n",
    "\n",
    "    lat_ref = 'N' if lat >= 0 else 'S'\n",
    "    lon_ref = 'E' if lon >= 0 else 'W'\n",
    "    \n",
    "    gps_ifd = {\n",
    "        piexif.GPSIFD.GPSLatitudeRef: lat_ref,\n",
    "        piexif.GPSIFD.GPSLatitude: to_gps_ifd(lat),\n",
    "        piexif.GPSIFD.GPSLongitudeRef: lon_ref,\n",
    "        piexif.GPSIFD.GPSLongitude: to_gps_ifd(lon),\n",
    "        piexif.GPSIFD.GPSAltitudeRef: 0 if altitude >= 0 else 1,\n",
    "        piexif.GPSIFD.GPSAltitude: (int(abs(altitude) * 100), 100),\n",
    "    }\n",
    "    \n",
    "    exif_dict = {\n",
    "        \"0th\": {\n",
    "            piexif.ImageIFD.Make: metadata[\"properties\"][\"instruments\"][0],\n",
    "            piexif.ImageIFD.Model: metadata[\"properties\"][\"platform\"],\n",
    "            piexif.ImageIFD.DateTime: metadata[\"properties\"][\"datetime\"],\n",
    "        },\n",
    "        \"Exif\": {\n",
    "            piexif.ExifIFD.ExposureTime: (1, max(1, int(metadata[\"properties\"][\"gsd\"]))),\n",
    "            piexif.ExifIFD.FNumber: (int(metadata[\"properties\"][\"estimated_accuracy\"]), 1),\n",
    "            piexif.ExifIFD.FocalLength: (int(metadata[\"properties\"][\"pers:interior_orientation\"][\"focal_length\"]), 1),\n",
    "        },\n",
    "        \"GPS\": gps_ifd,\n",
    "        \"1st\": {},\n",
    "        \"thumbnail\": None,\n",
    "    }\n",
    "    \n",
    "    return exif_dict\n",
    "    \n",
    "\n",
    "def save_exif_data(image_path, exif_data):\n",
    "    exif_bytes = piexif.dump(exif_data)\n",
    "    jpeg_path = image_path.replace('.tif', '.jpg')\n",
    "    \n",
    "    with Image.open(image_path) as img:\n",
    "        img.convert(\"RGB\").save(jpeg_path, 'JPEG', quality=JPEG_QUALITY, exif=exif_bytes)\n",
    "\n",
    "\n",
    "        \n",
    "def create_xmp_file(metadata, save_path):\n",
    "    lon, lat = transform_coordinates(\n",
    "        metadata[\"properties\"][\"pers:perspective_center\"][0],\n",
    "        metadata[\"properties\"][\"pers:perspective_center\"][1]\n",
    "    )\n",
    "    altitude = metadata[\"properties\"][\"pers:perspective_center\"][2]\n",
    "\n",
    "    # Create XML structure\n",
    "    xmpmeta = ET.Element(\"x:xmpmeta\", {\"xmlns:x\": \"adobe:ns:meta/\"})\n",
    "    rdf = ET.SubElement(xmpmeta, \"rdf:RDF\", {\"xmlns:rdf\": \"http://www.w3.org/1999/02/22-rdf-syntax-ns#\"})\n",
    "    description = ET.SubElement(rdf, \"rdf:Description\", {\n",
    "        \"xcr:Version\": \"3\",\n",
    "        \"xcr:PosePrior\": \"exact\",\n",
    "        \"xcr:Skew\": \"0\",\n",
    "        \"xcr:AspectRatio\": \"1\",\n",
    "        \"xcr:PrincipalPointU\": str(metadata[\"properties\"][\"pers:interior_orientation\"].get(\"principal_point_offset\", [0.0, 0.0])[0]),\n",
    "        \"xcr:PrincipalPointV\": str(metadata[\"properties\"][\"pers:interior_orientation\"].get(\"principal_point_offset\", [0.0, 0.0])[1]),\n",
    "        \"xcr:latitude\": f\"{abs(lat):.12f}{'N' if lat >= 0 else 'S'}\",\n",
    "        \"xcr:longitude\": f\"{abs(lon):.12f}{'E' if lon >= 0 else 'W'}\",\n",
    "        \"xcr:version\": \"2.2.0.0\",\n",
    "        \"xcr:altitude\": f\"{int(altitude * 10000)}/10000\",\n",
    "        \"xmlns:xcr\": \"http://www.capturingreality.com/ns/xcr/1.1#\"\n",
    "    })\n",
    "    \n",
    "    rotation_matrix_str = \" \".join(map(str, metadata[\"properties\"][\"pers:rotation_matrix\"]))\n",
    "    rotation = ET.SubElement(description, \"xcr:Rotation\")\n",
    "    rotation.text = rotation_matrix_str\n",
    "\n",
    "    # Convert XML structure to string\n",
    "    xml_data = ET.tostring(xmpmeta, encoding=\"utf-8\").decode(\"utf-8\")\n",
    "\n",
    "    # Save XML string to file\n",
    "    with open(save_path, 'w') as file:\n",
    "        file.write(xml_data)\n",
    "\n",
    "def save_flight_log(metadata_list, save_path):\n",
    "    flight_log = {\n",
    "        \"flight_details\": [item[\"properties\"] for item in metadata_list]\n",
    "    }\n",
    "    with open(save_path, 'w') as file:\n",
    "        json.dump(flight_log, file, indent=4)\n"
   ]
  },
  {
   "cell_type": "markdown",
   "id": "584810e2-081c-4ab5-b8d0-145e43eecb25",
   "metadata": {},
   "source": [
    "### Main fetch loop"
   ]
  },
  {
   "cell_type": "code",
   "execution_count": null,
   "id": "891d3635-b39e-48a0-8f53-c6e2734f6acf",
   "metadata": {},
   "outputs": [],
   "source": [
    "params = {\n",
    "    'bbox': ','.join(map(str, bbox)),\n",
    "    'bbox-crs': bbox_crs,\n",
    "    'crs':return_crs,\n",
    "    'collections':collection_ids,\n",
    "    'limit' : limit,\n",
    "    'token': token\n",
    "}\n",
    "\n",
    "metadata = download_json_metadata(search_url,params)\n",
    "save_flight_log(metadata[\"features\"], flight_log_path)\n",
    "if not os.path.exists(image_path):\n",
    "    os.makedirs(image_path)\n",
    "if not os.path.exists(XMP_SAVE_PATH):\n",
    "    os.makedirs(XMP_SAVE_PATH)\n",
    "for feature in metadata[\"features\"]:\n",
    "    image_url = feature[\"properties\"][\"asset:data\"]\n",
    "    image_id = feature[\"id\"]\n",
    "    image_path = os.path.join(image_path, f\"{image_id}.tif\")\n",
    "    jpeg_path = os.path.join(image_path, f\"{image_id}.jpg\")\n",
    "    xmp_path = os.path.join(XMP_SAVE_PATH, f\"{image_id}.xmp\")\n",
    "    # Check if the TIFF file already exists\n",
    "    if not os.path.exists(image_path):\n",
    "        download_image(image_url, image_path)\n",
    "    \n",
    "    # Check if the JPEG file already exists\n",
    "    if not os.path.exists(jpeg_path):\n",
    "        # Convert TIFF to JPEG and embed EXIF data\n",
    "        exif_data = create_exif_data(feature)\n",
    "        save_exif_data(image_path, exif_data)\n",
    "        \n",
    "    if not os.path.exists(xmp_path):\n",
    "       create_xmp_file(feature, xmp_path)"
   ]
  },
  {
   "cell_type": "markdown",
   "id": "51a98ee4-fadf-4df9-8095-f9189a5895cc",
   "metadata": {},
   "source": [
    "## List all collections"
   ]
  },
  {
   "cell_type": "code",
   "execution_count": null,
   "id": "1a05e5a7-4665-4641-a16b-52a9fd042767",
   "metadata": {},
   "outputs": [],
   "source": [
    "# Make the API request to collect all colections\n",
    "response = requests.get(base_url, params=params)\n",
    "\n",
    "\n",
    "# Check if the request was successful\n",
    "if response.status_code == 200:\n",
    "    # Parse the JSON response\n",
    "    root_metadata = response.json()\n",
    "    \n",
    "    # Extract collections and available services\n",
    "    collections = [link for link in root_metadata['links'] if link['rel'] == 'child']\n",
    "    services = [link for link in root_metadata['links'] if link['rel'] != 'child']\n",
    "    \n",
    "    # Format and print the collections\n",
    "    print(\"LIst of current collections:\")\n",
    "    for collection in collections:\n",
    "        print(f\"Title: {collection['title']}\")\n",
    "        print(f\"URL: {collection['href']}\")\n",
    "        print()\n",
    "    \n",
    "else:\n",
    "    print(f\"Failed to retrieve data: {response.status_code}\")\n"
   ]
  },
  {
   "cell_type": "markdown",
   "id": "833ae5a3-2d00-4c37-9f8b-0a4bcd41447d",
   "metadata": {},
   "source": [
    "For a definition on oblique image data see\n",
    "Verykokou, Styliani, and Charalabos Ioannidis. 2024. \"Oblique Aerial Images: Geometric Principles, Relationships and Definitions\" Encyclopedia 4, no. 1: 234-255. https://doi.org/10.3390/encyclopedia4010019 "
   ]
  },
  {
   "cell_type": "markdown",
   "id": "4358d9e8-11d8-43a4-9c32-dffe209466e7",
   "metadata": {},
   "source": [
    "## Image normalisation\n",
    "To help with the photogeomatry process the following cells normalises the coilurs in the downloaded images"
   ]
  },
  {
   "cell_type": "code",
   "execution_count": null,
   "id": "74bf70f6-1337-4105-929a-6eaf27fec3b0",
   "metadata": {},
   "outputs": [],
   "source": [
    "import cv2\n",
    "import os\n",
    "from glob import glob\n",
    "\n",
    "def normalize_image(image_path):\n",
    "    # Read the image using OpenCV\n",
    "    image = cv2.imread(image_path)\n",
    "    \n",
    "    # Convert the image from BGR to LAB color space\n",
    "    lab_image = cv2.cvtColor(image, cv2.COLOR_BGR2LAB)\n",
    "    \n",
    "    # Split the LAB image into L, A and B channels\n",
    "    l_channel, a_channel, b_channel = cv2.split(lab_image)\n",
    "    \n",
    "    # Apply histogram equalization to the L channel (brightness)\n",
    "    l_channel_eq = cv2.equalizeHist(l_channel)\n",
    "    \n",
    "    # Merge the channels back\n",
    "    lab_image_eq = cv2.merge((l_channel_eq, a_channel, b_channel))\n",
    "    \n",
    "    # Convert back to BGR color space\n",
    "    normalized_image = cv2.cvtColor(lab_image_eq, cv2.COLOR_LAB2BGR)\n",
    "    \n",
    "    return normalized_image\n",
    "\n",
    "def process_images(image_folder):\n",
    "    # Find all JPG and TIF images in the folder\n",
    "    image_paths = glob(os.path.join(image_folder, '*.[jJ][pP][gG]')) + \\\n",
    "                  glob(os.path.join(image_folder, '*.[tT][iI][fF]'))\n",
    "    \n",
    "    for image_path in image_paths:\n",
    "        # Normalize the image\n",
    "        normalized_img = normalize_image(image_path)\n",
    "        \n",
    "        # Create the output path by adding \"_normalized\" to the filename\n",
    "        base_name = os.path.basename(image_path)\n",
    "        file_name, ext = os.path.splitext(base_name)\n",
    "        output_path = os.path.join(image_folder, f\"{file_name}_normalized{ext}\")\n",
    "        \n",
    "        # Save the normalized image\n",
    "        cv2.imwrite(output_path, normalized_img)\n",
    "        print(f\"Saved normalized image to {output_path}\")\n",
    "\n",
    "# Example usage\n",
    "process_images(image_path)\n"
   ]
  },
  {
   "cell_type": "code",
   "execution_count": null,
   "id": "3cd55d6d-b4bc-40e4-b877-81c421986e37",
   "metadata": {},
   "outputs": [],
   "source": []
  }
 ],
 "metadata": {
  "kernelspec": {
   "display_name": "Python 3 (ipykernel)",
   "language": "python",
   "name": "python3"
  },
  "language_info": {
   "codemirror_mode": {
    "name": "ipython",
    "version": 3
   },
   "file_extension": ".py",
   "mimetype": "text/x-python",
   "name": "python",
   "nbconvert_exporter": "python",
   "pygments_lexer": "ipython3",
   "version": "3.10.14"
  }
 },
 "nbformat": 4,
 "nbformat_minor": 5
}
